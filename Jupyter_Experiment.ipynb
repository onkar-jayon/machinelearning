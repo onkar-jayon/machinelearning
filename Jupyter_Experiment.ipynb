{
  "nbformat": 4,
  "nbformat_minor": 0,
  "metadata": {
    "colab": {
      "name": "Jupyter Experiment.ipynb",
      "provenance": [],
      "collapsed_sections": []
    },
    "kernelspec": {
      "name": "python3",
      "display_name": "Python 3"
    },
    "language_info": {
      "name": "python"
    }
  },
  "cells": [
    {
      "cell_type": "code",
      "metadata": {
        "id": "WzLCHtlExJ-O"
      },
      "source": [
        ""
      ],
      "execution_count": null,
      "outputs": []
    },
    {
      "cell_type": "markdown",
      "metadata": {
        "id": "7kBr6BCXxft_"
      },
      "source": [
        "#This is the first heading \n",
        "##This is heading no 2\n",
        "###This is heading no 3\n",
        "####This is heading no 4\n",
        "#####this is heading no 5\n",
        "#######this is heading no 6 \n",
        "# the previous one was the last heading\n",
        "1. heading \n",
        "2. heading 2\n",
        "2. heading 3\n",
        "1. heading 4\n",
        "+ unordered heading  \n",
        "+ another item of unordered list\n",
        "*item again\n",
        "-increases the probabaility6.\n",
        "1. another heading\n",
        "\n",
        "\n",
        "\n",
        "...trying indentation bt not working"
      ]
    },
    {
      "cell_type": "code",
      "metadata": {
        "colab": {
          "base_uri": "https://localhost:8080/"
        },
        "id": "E25-Y9c-acMg",
        "outputId": "a43e5fef-5656-4363-a999-fa42e63ffb3f"
      },
      "source": [
        "%time\n",
        "print('Table of squares')\n",
        "for i in range(10):\n",
        "  print(f'{i} times {i} = {i*i}')\n"
      ],
      "execution_count": null,
      "outputs": [
        {
          "output_type": "stream",
          "text": [
            "CPU times: user 3 µs, sys: 0 ns, total: 3 µs\n",
            "Wall time: 6.91 µs\n",
            "Table of squares\n",
            "0 times 0 = 0\n",
            "1 times 1 = 1\n",
            "2 times 2 = 4\n",
            "3 times 3 = 9\n",
            "4 times 4 = 16\n",
            "5 times 5 = 25\n",
            "6 times 6 = 36\n",
            "7 times 7 = 49\n",
            "8 times 8 = 64\n",
            "9 times 9 = 81\n"
          ],
          "name": "stdout"
        }
      ]
    },
    {
      "cell_type": "code",
      "metadata": {
        "id": "Ymylhfa89ddj"
      },
      "source": [
        ""
      ],
      "execution_count": null,
      "outputs": []
    }
  ]
}